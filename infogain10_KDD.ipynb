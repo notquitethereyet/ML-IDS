{
 "cells": [
  {
   "cell_type": "code",
   "execution_count": 1,
   "id": "1c03b202-b561-42b5-b81a-3b5749f27d39",
   "metadata": {},
   "outputs": [],
   "source": [
    "# module imports\n",
    "import numpy as np\n",
    "import pandas as pd\n",
    "import matplotlib.pyplot as plt\n",
    "import seaborn as sns\n",
    "import itertools\n",
    "import random\n",
    "\n",
    "# processing imports\n",
    "from sklearn.preprocessing import LabelEncoder\n",
    "from sklearn.model_selection import train_test_split\n",
    "from sklearn.model_selection import cross_val_score\n",
    "from sklearn.metrics import mean_absolute_error\n",
    "from sklearn.metrics import accuracy_score\n",
    "from sklearn.metrics import confusion_matrix\n",
    "from sklearn.preprocessing import StandardScaler\n",
    "import torch\n",
    "import os\n",
    "\n",
    "import torch\n",
    "import torch.nn as nn\n",
    "import torch.optim as optim\n",
    "from torch.utils.data import DataLoader, TensorDataset\n",
    "from tqdm import tqdm\n",
    "from sklearn.model_selection import train_test_split\n",
    "import torch.optim.lr_scheduler as lr_scheduler\n"
   ]
  },
  {
   "cell_type": "code",
   "execution_count": 2,
   "id": "120fcda4-68bc-4b3b-847b-a20468f68b3c",
   "metadata": {},
   "outputs": [
    {
     "name": "stdout",
     "output_type": "stream",
     "text": [
      "Length of training set:  125972\n",
      "Length of testing set:  22543\n"
     ]
    }
   ],
   "source": [
    "import os\n",
    "\n",
    "folder_path = 'C:/Users/quiet/Documents/jupyter/CS240/NSL-KDD'\n",
    "#folder_path = '/content/drive/MyDrive/CS240/NSL-KDD'\n",
    "#files = os.listdir(folder_path)\n",
    "\n",
    "train_file = 'KDDTrain+.txt'\n",
    "train_path = os.path.join(folder_path, train_file)\n",
    "data_train = pd.read_csv(train_path)\n",
    "# data_train.head()\n",
    "\n",
    "test_file = 'KDDTest+.txt'\n",
    "test_path = os.path.join(folder_path, test_file)\n",
    "data_test = pd.read_csv(test_path)\n",
    "\n",
    "print(\"Length of training set: \", len(data_train))\n",
    "print(\"Length of testing set: \", len(data_test))"
   ]
  },
  {
   "cell_type": "code",
   "execution_count": 3,
   "id": "50d6f3be-bb00-4d86-a41c-35aefba431ec",
   "metadata": {},
   "outputs": [],
   "source": [
    "columns = (['duration','protocol_type','service','flag','src_bytes','dst_bytes','land','wrong_fragment','urgent','hot'\n",
    ",'num_failed_logins','logged_in','num_compromised','root_shell','su_attempted','num_root','num_file_creations'\n",
    ",'num_shells','num_access_files','num_outbound_cmds','is_host_login','is_guest_login','count','srv_count','serror_rate'\n",
    ",'srv_serror_rate','rerror_rate','srv_rerror_rate','same_srv_rate','diff_srv_rate','srv_diff_host_rate','dst_host_count','dst_host_srv_count'\n",
    ",'dst_host_same_srv_rate','dst_host_diff_srv_rate','dst_host_same_src_port_rate','dst_host_srv_diff_host_rate','dst_host_serror_rate'\n",
    ",'dst_host_srv_serror_rate','dst_host_rerror_rate','dst_host_srv_rerror_rate','attack','level'])\n",
    "data_train.columns = columns\n",
    "data_test.columns = columns"
   ]
  },
  {
   "cell_type": "code",
   "execution_count": 4,
   "id": "f6a18fbc-7372-4732-8798-cfc53cf774f4",
   "metadata": {},
   "outputs": [],
   "source": [
    "# map normal to 0, all attacks to 1\n",
    "is_attack = data_train.attack.map(lambda a: 0 if a == 'normal' else 1)\n",
    "test_attack = data_test.attack.map(lambda a: 0 if a == 'normal' else 1)\n",
    "\n",
    "#data_with_attack = df.join(is_attack, rsuffix='_flag')\n",
    "data_train['attack_flag'] = is_attack\n",
    "data_test['attack_flag'] = test_attack\n",
    "\n",
    "# view the result\n",
    "#data.head()"
   ]
  },
  {
   "cell_type": "code",
   "execution_count": 5,
   "id": "25a973c8-67fa-4825-a40e-bd0df0884924",
   "metadata": {},
   "outputs": [],
   "source": [
    "# lists to hold our attack classifications\n",
    "dos_attacks = ['apache2','back','land','neptune','mailbomb','pod','processtable','smurf','teardrop','udpstorm','worm']\n",
    "probe_attacks = ['ipsweep','mscan','nmap','portsweep','saint','satan']\n",
    "U2R = ['buffer_overflow','loadmdoule','perl','ps','rootkit','sqlattack','xterm']\n",
    "Sybil = ['ftp_write','guess_passwd','http_tunnel','imap','multihop','named','phf','sendmail','snmpgetattack','snmpguess','spy','warezclient','warezmaster','xclock','xsnoop']\n",
    "\n",
    "# we will use these for plotting below\n",
    "attack_labels = ['Normal','DoS','Probe','U2R','Sybil']\n",
    "\n",
    "# helper function to pass to data frame mapping\n",
    "def map_attack(attack):\n",
    "    if attack in dos_attacks:\n",
    "        # dos_attacks map to 1\n",
    "        attack_type = 1\n",
    "    elif attack in probe_attacks:\n",
    "        # probe_attacks mapt to 2\n",
    "        attack_type = 2\n",
    "    elif attack in U2R:\n",
    "        # privilege escalation attacks map to 3\n",
    "        attack_type = 3\n",
    "    elif attack in Sybil:\n",
    "        # remote access attacks map to 4\n",
    "        attack_type = 4\n",
    "    else:\n",
    "        # normal maps to 0\n",
    "        attack_type = 0\n",
    "\n",
    "    return attack_type\n",
    "\n",
    "# map the data and join to the data set\n",
    "attack_map = data_train.attack.apply(map_attack)\n",
    "data_train['attack_map'] = attack_map\n",
    "\n",
    "test_attack_map = data_test.attack.apply(map_attack)\n",
    "data_test['attack_map'] = test_attack_map"
   ]
  },
  {
   "cell_type": "code",
   "execution_count": 6,
   "id": "aa167e58-d829-4a92-bafc-8212d7e873a0",
   "metadata": {},
   "outputs": [
    {
     "data": {
      "text/html": [
       "<div>\n",
       "<style scoped>\n",
       "    .dataframe tbody tr th:only-of-type {\n",
       "        vertical-align: middle;\n",
       "    }\n",
       "\n",
       "    .dataframe tbody tr th {\n",
       "        vertical-align: top;\n",
       "    }\n",
       "\n",
       "    .dataframe thead th {\n",
       "        text-align: right;\n",
       "    }\n",
       "</style>\n",
       "<table border=\"1\" class=\"dataframe\">\n",
       "  <thead>\n",
       "    <tr style=\"text-align: right;\">\n",
       "      <th></th>\n",
       "      <th>duration</th>\n",
       "      <th>protocol_type</th>\n",
       "      <th>service</th>\n",
       "      <th>flag</th>\n",
       "      <th>src_bytes</th>\n",
       "      <th>dst_bytes</th>\n",
       "      <th>land</th>\n",
       "      <th>wrong_fragment</th>\n",
       "      <th>urgent</th>\n",
       "      <th>hot</th>\n",
       "      <th>...</th>\n",
       "      <th>dst_host_same_src_port_rate</th>\n",
       "      <th>dst_host_srv_diff_host_rate</th>\n",
       "      <th>dst_host_serror_rate</th>\n",
       "      <th>dst_host_srv_serror_rate</th>\n",
       "      <th>dst_host_rerror_rate</th>\n",
       "      <th>dst_host_srv_rerror_rate</th>\n",
       "      <th>attack</th>\n",
       "      <th>level</th>\n",
       "      <th>attack_flag</th>\n",
       "      <th>attack_map</th>\n",
       "    </tr>\n",
       "  </thead>\n",
       "  <tbody>\n",
       "    <tr>\n",
       "      <th>0</th>\n",
       "      <td>0</td>\n",
       "      <td>udp</td>\n",
       "      <td>other</td>\n",
       "      <td>SF</td>\n",
       "      <td>146</td>\n",
       "      <td>0</td>\n",
       "      <td>0</td>\n",
       "      <td>0</td>\n",
       "      <td>0</td>\n",
       "      <td>0</td>\n",
       "      <td>...</td>\n",
       "      <td>0.88</td>\n",
       "      <td>0.00</td>\n",
       "      <td>0.00</td>\n",
       "      <td>0.00</td>\n",
       "      <td>0.0</td>\n",
       "      <td>0.00</td>\n",
       "      <td>normal</td>\n",
       "      <td>15</td>\n",
       "      <td>0</td>\n",
       "      <td>0</td>\n",
       "    </tr>\n",
       "    <tr>\n",
       "      <th>1</th>\n",
       "      <td>0</td>\n",
       "      <td>tcp</td>\n",
       "      <td>private</td>\n",
       "      <td>S0</td>\n",
       "      <td>0</td>\n",
       "      <td>0</td>\n",
       "      <td>0</td>\n",
       "      <td>0</td>\n",
       "      <td>0</td>\n",
       "      <td>0</td>\n",
       "      <td>...</td>\n",
       "      <td>0.00</td>\n",
       "      <td>0.00</td>\n",
       "      <td>1.00</td>\n",
       "      <td>1.00</td>\n",
       "      <td>0.0</td>\n",
       "      <td>0.00</td>\n",
       "      <td>neptune</td>\n",
       "      <td>19</td>\n",
       "      <td>1</td>\n",
       "      <td>1</td>\n",
       "    </tr>\n",
       "    <tr>\n",
       "      <th>2</th>\n",
       "      <td>0</td>\n",
       "      <td>tcp</td>\n",
       "      <td>http</td>\n",
       "      <td>SF</td>\n",
       "      <td>232</td>\n",
       "      <td>8153</td>\n",
       "      <td>0</td>\n",
       "      <td>0</td>\n",
       "      <td>0</td>\n",
       "      <td>0</td>\n",
       "      <td>...</td>\n",
       "      <td>0.03</td>\n",
       "      <td>0.04</td>\n",
       "      <td>0.03</td>\n",
       "      <td>0.01</td>\n",
       "      <td>0.0</td>\n",
       "      <td>0.01</td>\n",
       "      <td>normal</td>\n",
       "      <td>21</td>\n",
       "      <td>0</td>\n",
       "      <td>0</td>\n",
       "    </tr>\n",
       "    <tr>\n",
       "      <th>3</th>\n",
       "      <td>0</td>\n",
       "      <td>tcp</td>\n",
       "      <td>http</td>\n",
       "      <td>SF</td>\n",
       "      <td>199</td>\n",
       "      <td>420</td>\n",
       "      <td>0</td>\n",
       "      <td>0</td>\n",
       "      <td>0</td>\n",
       "      <td>0</td>\n",
       "      <td>...</td>\n",
       "      <td>0.00</td>\n",
       "      <td>0.00</td>\n",
       "      <td>0.00</td>\n",
       "      <td>0.00</td>\n",
       "      <td>0.0</td>\n",
       "      <td>0.00</td>\n",
       "      <td>normal</td>\n",
       "      <td>21</td>\n",
       "      <td>0</td>\n",
       "      <td>0</td>\n",
       "    </tr>\n",
       "    <tr>\n",
       "      <th>4</th>\n",
       "      <td>0</td>\n",
       "      <td>tcp</td>\n",
       "      <td>private</td>\n",
       "      <td>REJ</td>\n",
       "      <td>0</td>\n",
       "      <td>0</td>\n",
       "      <td>0</td>\n",
       "      <td>0</td>\n",
       "      <td>0</td>\n",
       "      <td>0</td>\n",
       "      <td>...</td>\n",
       "      <td>0.00</td>\n",
       "      <td>0.00</td>\n",
       "      <td>0.00</td>\n",
       "      <td>0.00</td>\n",
       "      <td>1.0</td>\n",
       "      <td>1.00</td>\n",
       "      <td>neptune</td>\n",
       "      <td>21</td>\n",
       "      <td>1</td>\n",
       "      <td>1</td>\n",
       "    </tr>\n",
       "  </tbody>\n",
       "</table>\n",
       "<p>5 rows × 45 columns</p>\n",
       "</div>"
      ],
      "text/plain": [
       "   duration protocol_type  service flag  src_bytes  dst_bytes  land  \\\n",
       "0         0           udp    other   SF        146          0     0   \n",
       "1         0           tcp  private   S0          0          0     0   \n",
       "2         0           tcp     http   SF        232       8153     0   \n",
       "3         0           tcp     http   SF        199        420     0   \n",
       "4         0           tcp  private  REJ          0          0     0   \n",
       "\n",
       "   wrong_fragment  urgent  hot  ...  dst_host_same_src_port_rate  \\\n",
       "0               0       0    0  ...                         0.88   \n",
       "1               0       0    0  ...                         0.00   \n",
       "2               0       0    0  ...                         0.03   \n",
       "3               0       0    0  ...                         0.00   \n",
       "4               0       0    0  ...                         0.00   \n",
       "\n",
       "   dst_host_srv_diff_host_rate  dst_host_serror_rate  \\\n",
       "0                         0.00                  0.00   \n",
       "1                         0.00                  1.00   \n",
       "2                         0.04                  0.03   \n",
       "3                         0.00                  0.00   \n",
       "4                         0.00                  0.00   \n",
       "\n",
       "   dst_host_srv_serror_rate  dst_host_rerror_rate  dst_host_srv_rerror_rate  \\\n",
       "0                      0.00                   0.0                      0.00   \n",
       "1                      1.00                   0.0                      0.00   \n",
       "2                      0.01                   0.0                      0.01   \n",
       "3                      0.00                   0.0                      0.00   \n",
       "4                      0.00                   1.0                      1.00   \n",
       "\n",
       "    attack  level  attack_flag  attack_map  \n",
       "0   normal     15            0           0  \n",
       "1  neptune     19            1           1  \n",
       "2   normal     21            0           0  \n",
       "3   normal     21            0           0  \n",
       "4  neptune     21            1           1  \n",
       "\n",
       "[5 rows x 45 columns]"
      ]
     },
     "execution_count": 6,
     "metadata": {},
     "output_type": "execute_result"
    }
   ],
   "source": [
    "df = pd.concat([data_train, data_test])\n",
    "df.head()"
   ]
  },
  {
   "cell_type": "code",
   "execution_count": 7,
   "id": "f6c99953-ac04-49d7-bac9-43604f3ff797",
   "metadata": {},
   "outputs": [
    {
     "name": "stdout",
     "output_type": "stream",
     "text": [
      "Index(['protocol_type', 'service', 'flag', 'attack'], dtype='object')\n"
     ]
    }
   ],
   "source": [
    "df_cat = df.select_dtypes(exclude=[np.number])\n",
    "print(df_cat.columns)\n",
    "for feature in df_cat.columns:\n",
    "    df[feature] = LabelEncoder().fit_transform(df[feature])"
   ]
  },
  {
   "cell_type": "code",
   "execution_count": 8,
   "id": "2274ac73-d07d-433f-91fc-72eb8b24df31",
   "metadata": {},
   "outputs": [
    {
     "name": "stdout",
     "output_type": "stream",
     "text": [
      "Correlation between num_compromised and num_root: 0.9987247769091253\n",
      "Correlation between serror_rate and srv_serror_rate: 0.9915070293624476\n",
      "Correlation between serror_rate and dst_host_serror_rate: 0.9746961375901955\n",
      "Correlation between serror_rate and dst_host_srv_serror_rate: 0.9760303434617954\n",
      "Correlation between srv_serror_rate and dst_host_serror_rate: 0.9708018218887585\n",
      "Correlation between srv_serror_rate and dst_host_srv_serror_rate: 0.9819823619122965\n",
      "Correlation between rerror_rate and srv_rerror_rate: 0.9860945327614858\n",
      "Correlation between rerror_rate and dst_host_srv_rerror_rate: 0.9573561564434296\n",
      "Correlation between srv_rerror_rate and dst_host_srv_rerror_rate: 0.9656048075698501\n",
      "Correlation between dst_host_serror_rate and dst_host_srv_serror_rate: 0.9828120697026873\n",
      "Number of highly correlated pairs: 6\n",
      "{'num_root', 'dst_host_serror_rate', 'srv_rerror_rate', 'srv_serror_rate', 'dst_host_srv_serror_rate', 'dst_host_srv_rerror_rate'}\n"
     ]
    }
   ],
   "source": [
    "import numpy as np\n",
    "\n",
    "# Set the threshold for correlation\n",
    "threshold = 0.95\n",
    "\n",
    "corr_matrix = df.corr()\n",
    "# Find the highly correlated variables\n",
    "correlated_vars = set()\n",
    "for i in range(len(corr_matrix.columns)):\n",
    "    for j in range(i+1, len(corr_matrix.columns)):\n",
    "        if abs(corr_matrix.iloc[i, j]) > threshold:\n",
    "            colname_i = corr_matrix.columns[i]\n",
    "            colname_j = corr_matrix.columns[j]\n",
    "            correlated_vars.add((colname_j))\n",
    "            print(f\"Correlation between {colname_i} and {colname_j}: {corr_matrix.iloc[i, j]}\")\n",
    "\n",
    "# Print the number of highly correlated pairs\n",
    "print(\"Number of highly correlated pairs:\", len(correlated_vars))\n",
    "print(correlated_vars)"
   ]
  },
  {
   "cell_type": "code",
   "execution_count": 9,
   "id": "c620f965-d173-402c-b42f-b7301ab42932",
   "metadata": {},
   "outputs": [],
   "source": [
    "df = df.drop(columns=correlated_vars)\n",
    "fruitydf = df.sample(n=1000, random_state=42)\n",
    "infogain = df.copy()"
   ]
  },
  {
   "cell_type": "code",
   "execution_count": 10,
   "id": "a5ef3d8b-98a3-4670-84ef-3fedd6cec1d3",
   "metadata": {},
   "outputs": [
    {
     "data": {
      "text/html": [
       "<div>\n",
       "<style scoped>\n",
       "    .dataframe tbody tr th:only-of-type {\n",
       "        vertical-align: middle;\n",
       "    }\n",
       "\n",
       "    .dataframe tbody tr th {\n",
       "        vertical-align: top;\n",
       "    }\n",
       "\n",
       "    .dataframe thead th {\n",
       "        text-align: right;\n",
       "    }\n",
       "</style>\n",
       "<table border=\"1\" class=\"dataframe\">\n",
       "  <thead>\n",
       "    <tr style=\"text-align: right;\">\n",
       "      <th></th>\n",
       "      <th>duration</th>\n",
       "      <th>protocol_type</th>\n",
       "      <th>service</th>\n",
       "      <th>flag</th>\n",
       "      <th>src_bytes</th>\n",
       "      <th>dst_bytes</th>\n",
       "      <th>land</th>\n",
       "      <th>wrong_fragment</th>\n",
       "      <th>urgent</th>\n",
       "      <th>hot</th>\n",
       "      <th>...</th>\n",
       "      <th>dst_host_srv_count</th>\n",
       "      <th>dst_host_same_srv_rate</th>\n",
       "      <th>dst_host_diff_srv_rate</th>\n",
       "      <th>dst_host_same_src_port_rate</th>\n",
       "      <th>dst_host_srv_diff_host_rate</th>\n",
       "      <th>dst_host_rerror_rate</th>\n",
       "      <th>attack</th>\n",
       "      <th>level</th>\n",
       "      <th>attack_flag</th>\n",
       "      <th>attack_map</th>\n",
       "    </tr>\n",
       "  </thead>\n",
       "  <tbody>\n",
       "    <tr>\n",
       "      <th>0</th>\n",
       "      <td>0</td>\n",
       "      <td>2</td>\n",
       "      <td>44</td>\n",
       "      <td>9</td>\n",
       "      <td>146</td>\n",
       "      <td>0</td>\n",
       "      <td>0</td>\n",
       "      <td>0</td>\n",
       "      <td>0</td>\n",
       "      <td>0</td>\n",
       "      <td>...</td>\n",
       "      <td>1</td>\n",
       "      <td>0.00</td>\n",
       "      <td>0.60</td>\n",
       "      <td>0.88</td>\n",
       "      <td>0.00</td>\n",
       "      <td>0.0</td>\n",
       "      <td>16</td>\n",
       "      <td>15</td>\n",
       "      <td>0</td>\n",
       "      <td>0</td>\n",
       "    </tr>\n",
       "    <tr>\n",
       "      <th>1</th>\n",
       "      <td>0</td>\n",
       "      <td>1</td>\n",
       "      <td>49</td>\n",
       "      <td>5</td>\n",
       "      <td>0</td>\n",
       "      <td>0</td>\n",
       "      <td>0</td>\n",
       "      <td>0</td>\n",
       "      <td>0</td>\n",
       "      <td>0</td>\n",
       "      <td>...</td>\n",
       "      <td>26</td>\n",
       "      <td>0.10</td>\n",
       "      <td>0.05</td>\n",
       "      <td>0.00</td>\n",
       "      <td>0.00</td>\n",
       "      <td>0.0</td>\n",
       "      <td>14</td>\n",
       "      <td>19</td>\n",
       "      <td>1</td>\n",
       "      <td>1</td>\n",
       "    </tr>\n",
       "    <tr>\n",
       "      <th>2</th>\n",
       "      <td>0</td>\n",
       "      <td>1</td>\n",
       "      <td>24</td>\n",
       "      <td>9</td>\n",
       "      <td>232</td>\n",
       "      <td>8153</td>\n",
       "      <td>0</td>\n",
       "      <td>0</td>\n",
       "      <td>0</td>\n",
       "      <td>0</td>\n",
       "      <td>...</td>\n",
       "      <td>255</td>\n",
       "      <td>1.00</td>\n",
       "      <td>0.00</td>\n",
       "      <td>0.03</td>\n",
       "      <td>0.04</td>\n",
       "      <td>0.0</td>\n",
       "      <td>16</td>\n",
       "      <td>21</td>\n",
       "      <td>0</td>\n",
       "      <td>0</td>\n",
       "    </tr>\n",
       "    <tr>\n",
       "      <th>3</th>\n",
       "      <td>0</td>\n",
       "      <td>1</td>\n",
       "      <td>24</td>\n",
       "      <td>9</td>\n",
       "      <td>199</td>\n",
       "      <td>420</td>\n",
       "      <td>0</td>\n",
       "      <td>0</td>\n",
       "      <td>0</td>\n",
       "      <td>0</td>\n",
       "      <td>...</td>\n",
       "      <td>255</td>\n",
       "      <td>1.00</td>\n",
       "      <td>0.00</td>\n",
       "      <td>0.00</td>\n",
       "      <td>0.00</td>\n",
       "      <td>0.0</td>\n",
       "      <td>16</td>\n",
       "      <td>21</td>\n",
       "      <td>0</td>\n",
       "      <td>0</td>\n",
       "    </tr>\n",
       "    <tr>\n",
       "      <th>4</th>\n",
       "      <td>0</td>\n",
       "      <td>1</td>\n",
       "      <td>49</td>\n",
       "      <td>1</td>\n",
       "      <td>0</td>\n",
       "      <td>0</td>\n",
       "      <td>0</td>\n",
       "      <td>0</td>\n",
       "      <td>0</td>\n",
       "      <td>0</td>\n",
       "      <td>...</td>\n",
       "      <td>19</td>\n",
       "      <td>0.07</td>\n",
       "      <td>0.07</td>\n",
       "      <td>0.00</td>\n",
       "      <td>0.00</td>\n",
       "      <td>1.0</td>\n",
       "      <td>14</td>\n",
       "      <td>21</td>\n",
       "      <td>1</td>\n",
       "      <td>1</td>\n",
       "    </tr>\n",
       "  </tbody>\n",
       "</table>\n",
       "<p>5 rows × 39 columns</p>\n",
       "</div>"
      ],
      "text/plain": [
       "   duration  protocol_type  service  flag  src_bytes  dst_bytes  land  \\\n",
       "0         0              2       44     9        146          0     0   \n",
       "1         0              1       49     5          0          0     0   \n",
       "2         0              1       24     9        232       8153     0   \n",
       "3         0              1       24     9        199        420     0   \n",
       "4         0              1       49     1          0          0     0   \n",
       "\n",
       "   wrong_fragment  urgent  hot  ...  dst_host_srv_count  \\\n",
       "0               0       0    0  ...                   1   \n",
       "1               0       0    0  ...                  26   \n",
       "2               0       0    0  ...                 255   \n",
       "3               0       0    0  ...                 255   \n",
       "4               0       0    0  ...                  19   \n",
       "\n",
       "   dst_host_same_srv_rate  dst_host_diff_srv_rate  \\\n",
       "0                    0.00                    0.60   \n",
       "1                    0.10                    0.05   \n",
       "2                    1.00                    0.00   \n",
       "3                    1.00                    0.00   \n",
       "4                    0.07                    0.07   \n",
       "\n",
       "   dst_host_same_src_port_rate  dst_host_srv_diff_host_rate  \\\n",
       "0                         0.88                         0.00   \n",
       "1                         0.00                         0.00   \n",
       "2                         0.03                         0.04   \n",
       "3                         0.00                         0.00   \n",
       "4                         0.00                         0.00   \n",
       "\n",
       "   dst_host_rerror_rate  attack  level  attack_flag  attack_map  \n",
       "0                   0.0      16     15            0           0  \n",
       "1                   0.0      14     19            1           1  \n",
       "2                   0.0      16     21            0           0  \n",
       "3                   0.0      16     21            0           0  \n",
       "4                   1.0      14     21            1           1  \n",
       "\n",
       "[5 rows x 39 columns]"
      ]
     },
     "execution_count": 10,
     "metadata": {},
     "output_type": "execute_result"
    }
   ],
   "source": [
    "infogain.head()"
   ]
  },
  {
   "cell_type": "code",
   "execution_count": 11,
   "id": "1c1d0cc4-89f6-407c-8589-d8ca57cc405b",
   "metadata": {},
   "outputs": [],
   "source": [
    "X = df.drop(columns=['attack', 'level', 'attack_flag', 'attack_map'])\n",
    "feature_list = list(X.columns)\n",
    "X = np.array(X)\n",
    "y = df['attack_flag']\n",
    "X_train, X_test, y_train, y_test = train_test_split(X, y, test_size = 0.2)"
   ]
  },
  {
   "cell_type": "code",
   "execution_count": 12,
   "id": "8a80bbd9-94ae-42e4-91bb-3899e7c1feb1",
   "metadata": {},
   "outputs": [
    {
     "data": {
      "text/plain": [
       "array([[ 0.  ,  1.  , 60.  , ...,  0.  ,  0.  ,  0.  ],\n",
       "       [ 0.  ,  1.  , 49.  , ...,  0.  ,  0.  ,  0.55],\n",
       "       [ 0.  ,  2.  , 49.  , ...,  1.  ,  0.  ,  0.  ],\n",
       "       ...,\n",
       "       [ 0.  ,  0.  , 15.  , ...,  1.  ,  0.  ,  0.  ],\n",
       "       [ 0.  ,  1.  ,  2.  , ...,  0.  ,  0.  ,  0.  ],\n",
       "       [ 0.  ,  1.  , 51.  , ...,  0.6 ,  0.  ,  0.58]])"
      ]
     },
     "execution_count": 12,
     "metadata": {},
     "output_type": "execute_result"
    }
   ],
   "source": [
    "X_train"
   ]
  },
  {
   "cell_type": "code",
   "execution_count": 13,
   "id": "d21452bb-3f2c-4413-b341-c3f52384d169",
   "metadata": {},
   "outputs": [
    {
     "name": "stdout",
     "output_type": "stream",
     "text": [
      "Accuracy: 0.9935360064639935\n",
      "Selected Features Indices: [31 11 30 29 26 25  3  2  5  4]\n",
      "dst_host_diff_srv_rate\n",
      "logged_in\n",
      "dst_host_same_srv_rate\n",
      "dst_host_srv_count\n",
      "diff_srv_rate\n",
      "same_srv_rate\n",
      "flag\n",
      "service\n",
      "dst_bytes\n",
      "src_bytes\n"
     ]
    }
   ],
   "source": [
    "from sklearn.feature_selection import mutual_info_classif\n",
    "from sklearn.datasets import fetch_openml\n",
    "from sklearn.model_selection import train_test_split\n",
    "from sklearn.ensemble import RandomForestClassifier\n",
    "from sklearn.metrics import accuracy_score\n",
    "\n",
    "information_gain = mutual_info_classif(X_train, y_train)\n",
    "\n",
    "num_selected_features = 10\n",
    "selected_features_indices = information_gain.argsort()[-num_selected_features:]\n",
    "selected_features = X_train[:, selected_features_indices]\n",
    "\n",
    "\n",
    "clf = RandomForestClassifier(n_estimators=100, random_state=42)\n",
    "clf.fit(selected_features, y_train)\n",
    "\n",
    "X_test_selected = X_test[:, selected_features_indices]\n",
    "y_pred = clf.predict(X_test_selected)\n",
    "\n",
    "# Calculate accuracy\n",
    "accuracy = accuracy_score(y_test, y_pred)\n",
    "print(\"Accuracy:\", accuracy)\n",
    "print(\"Selected Features Indices:\", selected_features_indices)\n",
    "for i in selected_features_indices:\n",
    "    print(feature_list[i])"
   ]
  },
  {
   "cell_type": "code",
   "execution_count": 14,
   "id": "b8032a0d-03b1-4632-a059-1bb0fb2113b8",
   "metadata": {},
   "outputs": [],
   "source": [
    "X_train_infogain = X_train[:, selected_features_indices]\n",
    "X_test_infogain = X_test[:, selected_features_indices]"
   ]
  },
  {
   "cell_type": "code",
   "execution_count": 15,
   "id": "e8a5d118-7ea3-43d3-92dd-6b29ab856620",
   "metadata": {},
   "outputs": [
    {
     "data": {
      "text/plain": [
       "array([0.05, 0.63, 0.06, ..., 0.  , 0.06, 0.61])"
      ]
     },
     "execution_count": 15,
     "metadata": {},
     "output_type": "execute_result"
    }
   ],
   "source": [
    "X_train_infogain[:,0]"
   ]
  },
  {
   "cell_type": "code",
   "execution_count": 16,
   "id": "8c4d493c-376d-4996-a6bd-1720fbe65a97",
   "metadata": {},
   "outputs": [],
   "source": [
    "scaler = StandardScaler().fit(X_train_infogain)\n",
    "X_train_infogain = scaler.transform(X_train_infogain)\n",
    "X_test_infogain = scaler.transform(X_test_infogain)"
   ]
  },
  {
   "cell_type": "code",
   "execution_count": 17,
   "id": "dc2766da-e1c5-41d2-b4e5-6208a5bc9100",
   "metadata": {},
   "outputs": [
    {
     "name": "stdout",
     "output_type": "stream",
     "text": [
      "10\n"
     ]
    }
   ],
   "source": [
    "print(X_train_infogain.shape[1])"
   ]
  },
  {
   "cell_type": "code",
   "execution_count": 18,
   "id": "9665c754-18f8-47f1-ac66-324c46f8bbfa",
   "metadata": {},
   "outputs": [],
   "source": [
    "import torch\n",
    "import torch.nn as nn\n",
    "import torch.optim as optim\n",
    "from torch.utils.data import DataLoader, TensorDataset\n",
    "from tqdm import tqdm\n",
    "from sklearn.model_selection import train_test_split\n",
    "import torch.optim.lr_scheduler as lr_scheduler\n",
    "\n",
    "# Define your neural network architecture\n",
    "class NeuralNetwork(nn.Module):\n",
    "    def __init__(self, input_dim):\n",
    "        super(NeuralNetwork, self).__init__()\n",
    "        self.fc1 = nn.Linear(input_dim, 50)\n",
    "        self.fc2 = nn.Linear(50, 30)\n",
    "        self.fc3 = nn.Linear(30, 15)\n",
    "        self.fc4 = nn.Linear(15, 5)\n",
    "        self.fc5 = nn.Linear(5, 2)\n",
    "\n",
    "    def forward(self, x):\n",
    "        x = torch.relu(self.fc1(x))\n",
    "        x = torch.relu(self.fc2(x))\n",
    "        x = torch.relu(self.fc3(x))\n",
    "        x = torch.relu(self.fc4(x))\n",
    "        x = self.fc5(x)\n",
    "        return x"
   ]
  },
  {
   "cell_type": "code",
   "execution_count": 19,
   "id": "64d304db-440f-4b1d-96ee-b3a96d560c21",
   "metadata": {},
   "outputs": [
    {
     "name": "stdout",
     "output_type": "stream",
     "text": [
      "Using device:  cuda\n"
     ]
    },
    {
     "name": "stderr",
     "output_type": "stream",
     "text": [
      "Epoch 1/50: 100%|███████████████████████████████████████████████████| 1857/1857 [00:24<00:00, 76.10batch/s, loss=0.216]\n"
     ]
    },
    {
     "name": "stdout",
     "output_type": "stream",
     "text": [
      "Train loss: 0.2163218864142959 Validation loss : 0.16068720817565918\n"
     ]
    },
    {
     "name": "stderr",
     "output_type": "stream",
     "text": [
      "Epoch 2/50: 100%|██████████████████████████████████████████████████| 1857/1857 [00:16<00:00, 113.48batch/s, loss=0.148]\n"
     ]
    },
    {
     "name": "stdout",
     "output_type": "stream",
     "text": [
      "Train loss: 0.14777186840138706 Validation loss : 0.13841015100479126\n"
     ]
    },
    {
     "name": "stderr",
     "output_type": "stream",
     "text": [
      "Epoch 3/50: 100%|███████████████████████████████████████████████████| 1857/1857 [00:20<00:00, 90.80batch/s, loss=0.132]\n"
     ]
    },
    {
     "name": "stdout",
     "output_type": "stream",
     "text": [
      "Train loss: 0.13209779539301503 Validation loss : 0.12805049121379852\n"
     ]
    },
    {
     "name": "stderr",
     "output_type": "stream",
     "text": [
      "Epoch 4/50: 100%|██████████████████████████████████████████████████| 1857/1857 [00:17<00:00, 106.52batch/s, loss=0.125]\n"
     ]
    },
    {
     "name": "stdout",
     "output_type": "stream",
     "text": [
      "Train loss: 0.12493242911882117 Validation loss : 0.11935147643089294\n"
     ]
    },
    {
     "name": "stderr",
     "output_type": "stream",
     "text": [
      "Epoch 5/50: 100%|███████████████████████████████████████████████████| 1857/1857 [00:16<00:00, 114.58batch/s, loss=0.12]\n"
     ]
    },
    {
     "name": "stdout",
     "output_type": "stream",
     "text": [
      "Train loss: 0.12016769536952931 Validation loss : 0.11927718669176102\n"
     ]
    },
    {
     "name": "stderr",
     "output_type": "stream",
     "text": [
      "Epoch 6/50: 100%|██████████████████████████████████████████████████| 1857/1857 [00:14<00:00, 127.68batch/s, loss=0.115]\n"
     ]
    },
    {
     "name": "stdout",
     "output_type": "stream",
     "text": [
      "Train loss: 0.11504155859816569 Validation loss : 0.11033684760332108\n"
     ]
    },
    {
     "name": "stderr",
     "output_type": "stream",
     "text": [
      "Epoch 7/50: 100%|██████████████████████████████████████████████████| 1857/1857 [00:14<00:00, 126.50batch/s, loss=0.109]\n"
     ]
    },
    {
     "name": "stdout",
     "output_type": "stream",
     "text": [
      "Train loss: 0.1089778946658449 Validation loss : 0.11449261754751205\n"
     ]
    },
    {
     "name": "stderr",
     "output_type": "stream",
     "text": [
      "Epoch 8/50: 100%|████████████████████████████████████████████████████| 1857/1857 [00:14<00:00, 129.30batch/s, loss=0.1]\n"
     ]
    },
    {
     "name": "stdout",
     "output_type": "stream",
     "text": [
      "Train loss: 0.0999580443622098 Validation loss : 0.09932231903076172\n"
     ]
    },
    {
     "name": "stderr",
     "output_type": "stream",
     "text": [
      "Epoch 9/50: 100%|█████████████████████████████████████████████████| 1857/1857 [00:16<00:00, 113.06batch/s, loss=0.0896]\n"
     ]
    },
    {
     "name": "stdout",
     "output_type": "stream",
     "text": [
      "Train loss: 0.08960898302387152 Validation loss : 0.08337164670228958\n"
     ]
    },
    {
     "name": "stderr",
     "output_type": "stream",
     "text": [
      "Epoch 10/50: 100%|█████████████████████████████████████████████████| 1857/1857 [00:22<00:00, 80.95batch/s, loss=0.0834]\n"
     ]
    },
    {
     "name": "stdout",
     "output_type": "stream",
     "text": [
      "Train loss: 0.08336909613173353 Validation loss : 0.08151835203170776\n"
     ]
    },
    {
     "name": "stderr",
     "output_type": "stream",
     "text": [
      "Epoch 11/50: 100%|█████████████████████████████████████████████████| 1857/1857 [00:25<00:00, 71.98batch/s, loss=0.0806]\n"
     ]
    },
    {
     "name": "stdout",
     "output_type": "stream",
     "text": [
      "Train loss: 0.08059743539729608 Validation loss : 0.07923290878534317\n"
     ]
    },
    {
     "name": "stderr",
     "output_type": "stream",
     "text": [
      "Epoch 12/50: 100%|█████████████████████████████████████████████████| 1857/1857 [00:24<00:00, 77.08batch/s, loss=0.0787]\n"
     ]
    },
    {
     "name": "stdout",
     "output_type": "stream",
     "text": [
      "Train loss: 0.0786823623745482 Validation loss : 0.0774693712592125\n"
     ]
    },
    {
     "name": "stderr",
     "output_type": "stream",
     "text": [
      "Epoch 13/50: 100%|█████████████████████████████████████████████████| 1857/1857 [00:24<00:00, 74.54batch/s, loss=0.0762]\n"
     ]
    },
    {
     "name": "stdout",
     "output_type": "stream",
     "text": [
      "Train loss: 0.07621024613302275 Validation loss : 0.07733039557933807\n"
     ]
    },
    {
     "name": "stderr",
     "output_type": "stream",
     "text": [
      "Epoch 14/50: 100%|█████████████████████████████████████████████████| 1857/1857 [00:23<00:00, 79.30batch/s, loss=0.0753]\n"
     ]
    },
    {
     "name": "stdout",
     "output_type": "stream",
     "text": [
      "Train loss: 0.07529387900688048 Validation loss : 0.07389020174741745\n"
     ]
    },
    {
     "name": "stderr",
     "output_type": "stream",
     "text": [
      "Epoch 15/50: 100%|█████████████████████████████████████████████████| 1857/1857 [00:24<00:00, 75.84batch/s, loss=0.0735]\n"
     ]
    },
    {
     "name": "stdout",
     "output_type": "stream",
     "text": [
      "Train loss: 0.0735407644663634 Validation loss : 0.07528915256261826\n"
     ]
    },
    {
     "name": "stderr",
     "output_type": "stream",
     "text": [
      "Epoch 16/50: 100%|██████████████████████████████████████████████████| 1857/1857 [00:24<00:00, 76.25batch/s, loss=0.072]\n"
     ]
    },
    {
     "name": "stdout",
     "output_type": "stream",
     "text": [
      "Train loss: 0.07200346210674073 Validation loss : 0.0770840272307396\n"
     ]
    },
    {
     "name": "stderr",
     "output_type": "stream",
     "text": [
      "Epoch 17/50: 100%|████████████████████████████████████████████████| 1857/1857 [00:15<00:00, 116.22batch/s, loss=0.0714]\n"
     ]
    },
    {
     "name": "stdout",
     "output_type": "stream",
     "text": [
      "Train loss: 0.07136315996013883 Validation loss : 0.07329459488391876\n"
     ]
    },
    {
     "name": "stderr",
     "output_type": "stream",
     "text": [
      "Epoch 18/50: 100%|████████████████████████████████████████████████| 1857/1857 [00:17<00:00, 105.69batch/s, loss=0.0707]\n"
     ]
    },
    {
     "name": "stdout",
     "output_type": "stream",
     "text": [
      "Train loss: 0.0707104585562794 Validation loss : 0.07320070266723633\n"
     ]
    },
    {
     "name": "stderr",
     "output_type": "stream",
     "text": [
      "Epoch 50/50: 100%|████████████████████████████████████████████████| 1857/1857 [00:17<00:00, 107.42batch/s, loss=0.0497]\n"
     ]
    },
    {
     "name": "stdout",
     "output_type": "stream",
     "text": [
      "Train loss: 0.049685316048106144 Validation loss : 0.05880681797862053\n",
      "Training completed!\n",
      "Train: Loss: 0.04944559931755066, Accuracy: 0.9799178838729858\n",
      "Validation: Loss: 0.05880681797862053, Accuracy: 0.9775107502937317\n",
      "Best Validation Loss: 0.0568942129611969 at Epoch 48\n"
     ]
    }
   ],
   "source": [
    "# Define input dimension based on the number of selected features\n",
    "input_dim_infogain = X_train_infogain.shape[1]\n",
    "batch_size = 64\n",
    "epochs = 50\n",
    "\n",
    "# Standardize the selected features\n",
    "#scaler = StandardScaler()\n",
    "#X_train_infogain = scaler.fit_transform(X_train_infogain)\n",
    "#X_test_infogain = scaler.transform(X_test_infogain)\n",
    "\n",
    "\n",
    "# Check if GPU is available\n",
    "device = torch.device(\"cuda\" if torch.cuda.is_available() else \"cpu\")\n",
    "\n",
    "# Convert your data to PyTorch tensors and move to GPU\n",
    "X_train_tensor_infogain = torch.FloatTensor(X_train_infogain).to(device)\n",
    "y_train_tensor = torch.LongTensor(y_train.values).to(device)\n",
    "X_test_tensor_infogain = torch.FloatTensor(X_test_infogain).to(device)\n",
    "y_test_tensor = torch.LongTensor(y_test.values).to(device)\n",
    "\n",
    "# Move the model to GPU\n",
    "model_selected = NeuralNetwork(input_dim_infogain).to(device)\n",
    "\n",
    "# Define your loss function and optimizer\n",
    "criterion = nn.CrossEntropyLoss()\n",
    "optimizer = optim.Adam(model_selected.parameters(), lr=0.001)\n",
    "scheduler = torch.optim.lr_scheduler.ReduceLROnPlateau(optimizer, mode='min', factor=0.5, patience=3)\n",
    "\n",
    "# Define your dataloaders\n",
    "train_dataset_infogain = TensorDataset(X_train_tensor_infogain, y_train_tensor)\n",
    "train_loader_infogain = DataLoader(train_dataset_infogain, batch_size=batch_size, shuffle=True)\n",
    "\n",
    "# Train your model\n",
    "from tqdm import tqdm\n",
    "\n",
    "# Train your model\n",
    "total_batches = len(train_loader_infogain)\n",
    "# Define early stopping parameters\n",
    "early_stopping_rounds = 5\n",
    "best_val_loss = float('inf')\n",
    "best_epoch = 0\n",
    "early_stopping_counter = 0\n",
    "\n",
    "# Train your model\n",
    "print(\"Using device: \", device)\n",
    "for epoch in range(epochs):\n",
    "    running_loss = 0.0\n",
    "    val_loss = 0.0\n",
    "    with tqdm(total=total_batches, desc=f'Epoch {epoch+1}/{epochs}', unit='batch') as pbar:\n",
    "        for i, (inputs, targets) in enumerate(train_loader_infogain):\n",
    "            optimizer.zero_grad()\n",
    "            outputs = model_selected(inputs)\n",
    "            loss = criterion(outputs, targets)\n",
    "            loss.backward()\n",
    "            optimizer.step()\n",
    "\n",
    "            running_loss += loss.item()\n",
    "            pbar.set_postfix({'loss': running_loss / (i+1)})\n",
    "            pbar.update(1)\n",
    "\n",
    "        # Calculate validation loss\n",
    "        with torch.no_grad():\n",
    "            test_outputs = model_selected(X_test_tensor_infogain)\n",
    "            val_loss = criterion(test_outputs, y_test_tensor)\n",
    "            print(f\"Train loss: {running_loss/(i+1)} Validation loss : {val_loss}\")\n",
    "            scheduler.step(val_loss)\n",
    "\n",
    "        # Check for early stopping\n",
    "        if val_loss < best_val_loss:\n",
    "            best_val_loss = val_loss\n",
    "            best_epoch = epoch\n",
    "            early_stopping_counter = 0\n",
    "        else:\n",
    "            early_stopping_counter += 1\n",
    "            if early_stopping_counter >= early_stopping_rounds:\n",
    "                print(f'Early stopping triggered! No improvement in validation loss for {early_stopping_rounds} consecutive epochs.')\n",
    "                break\n",
    "\n",
    "print('Training completed!')\n",
    "\n",
    "\n",
    "# Evaluate your model\n",
    "with torch.no_grad():\n",
    "    train_outputs = model_selected(X_train_tensor_infogain)\n",
    "    train_loss = criterion(train_outputs, y_train_tensor)\n",
    "    train_acc = (train_outputs.argmax(dim=1) == y_train_tensor).float().mean()\n",
    "\n",
    "    test_outputs = model_selected(X_test_tensor_infogain)\n",
    "    test_loss = criterion(test_outputs, y_test_tensor)\n",
    "    test_acc = (test_outputs.argmax(dim=1) == y_test_tensor).float().mean()\n",
    "\n",
    "print(f'Train: Loss: {train_loss.item()}, Accuracy: {train_acc.item()}')\n",
    "print(f'Validation: Loss: {test_loss.item()}, Accuracy: {test_acc.item()}')\n",
    "print(f'Best Validation Loss: {best_val_loss.item()} at Epoch {best_epoch+1}')\n"
   ]
  },
  {
   "cell_type": "code",
   "execution_count": 20,
   "id": "16ea698e-c189-4eb1-905c-4b5a05fdfaf9",
   "metadata": {},
   "outputs": [
    {
     "data": {
      "image/png": "[encoded data removed]",
      "text/plain": [
       "<Figure size 800x600 with 2 Axes>"
      ]
     },
     "metadata": {},
     "output_type": "display_data"
    }
   ],
   "source": [
    "import numpy as np\n",
    "import seaborn as sns\n",
    "import matplotlib.pyplot as plt\n",
    "from sklearn.metrics import confusion_matrix\n",
    "\n",
    "# Get predictions on test data\n",
    "with torch.no_grad():\n",
    "    test_outputs = model_selected(X_test_tensor_infogain)\n",
    "    y_pred = test_outputs.argmax(dim=1).cpu().numpy()\n",
    "\n",
    "# Convert true labels tensor to numpy array\n",
    "y_true = y_test_tensor.cpu().numpy()\n",
    "\n",
    "# Compute confusion matrix\n",
    "cm = confusion_matrix(y_true, y_pred)\n",
    "\n",
    "# Define labels for heatmap\n",
    "xticklabels = ['Predicted Normal', 'Predicted Attack']\n",
    "yticklabels = ['Actual Normal', 'Actual Attack']\n",
    "\n",
    "# Plot confusion matrix\n",
    "plt.figure(figsize=(8, 6))\n",
    "sns.heatmap(cm, annot=True, cmap='Blues', fmt='g', xticklabels=xticklabels, yticklabels=yticklabels)\n",
    "plt.xlabel('Predicted Label')\n",
    "plt.ylabel('True Label')\n",
    "plt.title('Confusion Matrix')\n",
    "plt.show()"
   ]
  },
  {
   "cell_type": "code",
   "execution_count": 21,
   "id": "7deac415-df80-43ea-9f82-1a99596499e3",
   "metadata": {},
   "outputs": [
    {
     "name": "stdout",
     "output_type": "stream",
     "text": [
      "False Positive Rate: 1.9786614936954414 %\n",
      "False Negative Rate: 2.5424919230228964 %\n"
     ]
    }
   ],
   "source": [
    "# Calculate false positives and false negatives from the test set confusion matrix\n",
    "false_positives = cm[0, 1]  # Predicted 1, but actually 0\n",
    "false_negatives = cm[1, 0]  # Predicted 0, but actually 1\n",
    "\n",
    "# Calculate total actual positives and total actual negatives\n",
    "total_positives = np.sum(cm[1, :])  # Total actual positives\n",
    "total_negatives = np.sum(cm[0, :])  # Total actual negatives\n",
    "\n",
    "# Calculate percentages\n",
    "false_positive_rate = (false_positives / total_negatives) * 100\n",
    "false_negative_rate = (false_negatives / total_positives) * 100\n",
    "\n",
    "print(\"False Positive Rate:\", false_positive_rate, \"%\")\n",
    "print(\"False Negative Rate:\", false_negative_rate, \"%\")"
   ]
  },
  {
   "cell_type": "code",
   "execution_count": null,
   "id": "7d6ee1ba-219e-49fe-a1ff-c458249b4c3d",
   "metadata": {},
   "outputs": [],
   "source": []
  }
 ],
 "metadata": {
  "kernelspec": {
   "display_name": "Python 3 (ipykernel)",
   "language": "python",
   "name": "python3"
  },
  "language_info": {
   "codemirror_mode": {
    "name": "ipython",
    "version": 3
   },
   "file_extension": ".py",
   "mimetype": "text/x-python",
   "name": "python",
   "nbconvert_exporter": "python",
   "pygments_lexer": "ipython3",
   "version": "3.11.7"
  }
 },
 "nbformat": 4,
 "nbformat_minor": 5
}
